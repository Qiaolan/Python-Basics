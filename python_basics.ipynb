{
 "cells": [
  {
   "cell_type": "markdown",
   "metadata": {},
   "source": [
    "# Step 0: __How to create Jupyter with conda virtual environment__"
   ]
  },
  {
   "cell_type": "markdown",
   "metadata": {},
   "source": [
    "##### create an virtual environment with all packages \n",
    "$ conda create -n notebook anaconda  \n",
    "\n",
    "##### activate it\n",
    "$ source activate notebook\n",
    "\n",
    "##### write the environment into the kernel of Jupyter\n",
    "python -m ipykernel install --user --name notebook --display-name \"conda_notebook\"\n",
    "\n",
    "##### activate Jupyter\n",
    "jupyter notebook"
   ]
  },
  {
   "cell_type": "markdown",
   "metadata": {},
   "source": [
    "# Part 1. Python Basics"
   ]
  },
  {
   "cell_type": "markdown",
   "metadata": {},
   "source": [
    "## 1. Data type and variables"
   ]
  },
  {
   "cell_type": "markdown",
   "metadata": {},
   "source": [
    "### String"
   ]
  },
  {
   "cell_type": "code",
   "execution_count": 20,
   "metadata": {},
   "outputs": [
    {
     "name": "stdout",
     "output_type": "stream",
     "text": [
      "I'm \"OK\"\n",
      "I am \n",
      " Qiaolan\n",
      "\\\\\\n\\\\\\t\n",
      "hello python\n",
      "he\n",
      "China USA 2020\n"
     ]
    }
   ],
   "source": [
    "print(\"I'm \\\"OK\\\"\") # \\ translate quote \"\"\n",
    "\n",
    "print(\"I am \\n Qiaolan\") # \\n new line\n",
    "\n",
    "print(r'\\\\\\n\\\\\\t')  # use r'' if you have lots of special strings\n",
    "\n",
    "combo = \"hello\" + \" \" + \"python\" # concatenation\n",
    "print(combo)\n",
    "print(combo[0:2])\n",
    "\n",
    "example = '%s %s %d' % (\"China\", \"USA\", 2020)\n",
    "print(example)\n",
    "\n"
   ]
  },
  {
   "cell_type": "code",
   "execution_count": 28,
   "metadata": {},
   "outputs": [
    {
     "name": "stdout",
     "output_type": "stream",
     "text": [
      "Python is a big snake\n",
      "PYTHON IS A BIG SNAKE\n",
      "python is a big snake\n",
      "python iZ a big Znake\n"
     ]
    }
   ],
   "source": [
    "# build-in functions \n",
    "\n",
    "s = \"python is a big snake\"\n",
    "\n",
    "print(s.capitalize())  #  首字母大写\n",
    "print(s.upper())\n",
    "print(s.center(7))\n",
    "print(s.replace('s','Z')) # replace all 's' with 'Z'\n",
    "\n"
   ]
  },
  {
   "cell_type": "code",
   "execution_count": 12,
   "metadata": {},
   "outputs": [
    {
     "name": "stdout",
     "output_type": "stream",
     "text": [
      "False\n"
     ]
    }
   ],
   "source": [
    "# Boolean\n",
    "\n",
    "t = True\n",
    "f = False\n",
    "\n",
    "print(t and f)   # there is no &&, || in python. English words only for Boolean"
   ]
  },
  {
   "cell_type": "markdown",
   "metadata": {},
   "source": [
    "## 2. list (列表) and tuple (元组)"
   ]
  },
  {
   "cell_type": "markdown",
   "metadata": {},
   "source": [
    "list是一种集合，长度可变，且能包含不同类型的元素"
   ]
  },
  {
   "cell_type": "code",
   "execution_count": 55,
   "metadata": {},
   "outputs": [
    {
     "name": "stdout",
     "output_type": "stream",
     "text": [
      "3\n",
      "[1, 2]\n",
      "[1, 2, 'pie', 'delta']\n",
      "delta [1, 2, 'pie']\n",
      "[1, 2]\n",
      "[1, 'one', 2]\n",
      "[['X', 'Y'], 3, 4]\n",
      "['X', 'Y']\n"
     ]
    }
   ],
   "source": [
    "ls = [1,2,\"pie\"]   # 中括号创建\n",
    "\n",
    "print(len(ls)) # length of list\n",
    "print(ls[0:2])  # slice\n",
    "\n",
    "ls[-1]  # get the last element\n",
    "ls.append(\"delta\")  # add an element to the last\n",
    "print(ls)\n",
    "\n",
    "pop = ls.pop() # remove and return the last element\n",
    "print(pop,ls)\n",
    "\n",
    "ls.pop(2)   # delete index 2 \"pie\"\n",
    "print(ls)\n",
    "\n",
    "\n",
    "ls.insert(1,\"one\")  # insert \"one\" to the index 1\n",
    "print(ls)\n",
    "\n",
    "ls_2 = [[\"X\",\"Y\"],3,4]    # list of list\n",
    "print(ls_2)\n",
    "print(ls_2[0])"
   ]
  },
  {
   "cell_type": "markdown",
   "metadata": {},
   "source": [
    "tuple跟list很相似，但是tuple一旦初始化后不能修改，没有append(),insert()这样的方法。因此代码更安全，能tuple就别用list。"
   ]
  },
  {
   "cell_type": "code",
   "execution_count": 59,
   "metadata": {
    "scrolled": true
   },
   "outputs": [
    {
     "name": "stdout",
     "output_type": "stream",
     "text": [
      "(1, 2, 3)\n"
     ]
    }
   ],
   "source": [
    "tp = (1,2,3) # 括号初始化\n",
    "print(tp)\n",
    "\n",
    "tp2 = (1)  # 等于1，不是一个含有一个元素的tuple\n",
    "tp3 = (1,) # 正确方法"
   ]
  },
  {
   "cell_type": "markdown",
   "metadata": {},
   "source": [
    "## 3. If condition"
   ]
  },
  {
   "cell_type": "code",
   "execution_count": 63,
   "metadata": {},
   "outputs": [
    {
     "name": "stdout",
     "output_type": "stream",
     "text": [
      "your age: 28\n",
      "adult\n"
     ]
    }
   ],
   "source": [
    "age = input('your age: ')   # read the input\n",
    "age = int(age)\n",
    "if age < 18:   # 注意冒号\n",
    "    print(\"teenager\")\n",
    "elif age >= 18:    # it is elif NOT elseif\n",
    "    print(\"adult\")\n",
    "else:\n",
    "    print(\"error\")"
   ]
  },
  {
   "cell_type": "markdown",
   "metadata": {},
   "source": [
    "## 4. Loop"
   ]
  },
  {
   "cell_type": "markdown",
   "metadata": {},
   "source": [
    "For Loop"
   ]
  },
  {
   "cell_type": "code",
   "execution_count": 1,
   "metadata": {},
   "outputs": [
    {
     "name": "stdout",
     "output_type": "stream",
     "text": [
      "a\n",
      "b\n",
      "c\n",
      "d\n"
     ]
    }
   ],
   "source": [
    "ls = ['a','b','c','d']\n",
    "for x in ls:\n",
    "    print(x)"
   ]
  },
  {
   "cell_type": "code",
   "execution_count": 2,
   "metadata": {},
   "outputs": [
    {
     "name": "stdout",
     "output_type": "stream",
     "text": [
      "0\n",
      "1\n",
      "2\n",
      "3\n",
      "4\n",
      "5\n",
      "6\n",
      "7\n",
      "8\n",
      "9\n",
      "10\n"
     ]
    }
   ],
   "source": [
    "for x in range(11):   # generate 0-10\n",
    "    print(x)"
   ]
  },
  {
   "cell_type": "code",
   "execution_count": 3,
   "metadata": {},
   "outputs": [
    {
     "name": "stdout",
     "output_type": "stream",
     "text": [
      "0 a\n",
      "1 b\n",
      "2 c\n",
      "3 d\n"
     ]
    }
   ],
   "source": [
    "for index,letter in enumerate(ls):  # enumerate can list both index and element\n",
    "    print(index,letter)"
   ]
  },
  {
   "cell_type": "code",
   "execution_count": 8,
   "metadata": {},
   "outputs": [
    {
     "name": "stdout",
     "output_type": "stream",
     "text": [
      "[0, 1, 4, 9, 16, 25]\n",
      "[0, 4, 16]\n"
     ]
    }
   ],
   "source": [
    "nums = range(0,6)\n",
    "sq = [x ** 2 for x in nums]   # 列表推导\n",
    "print(sq)\n",
    "sq2 = [x ** 2 for x in nums if x % 2 ==0]   # add if condition\n",
    "print(sq2)"
   ]
  },
  {
   "cell_type": "markdown",
   "metadata": {},
   "source": [
    "While Loop"
   ]
  },
  {
   "cell_type": "code",
   "execution_count": 14,
   "metadata": {},
   "outputs": [
    {
     "name": "stdout",
     "output_type": "stream",
     "text": [
      "50\n"
     ]
    }
   ],
   "source": [
    "x = 0\n",
    "while x < 100:\n",
    "    x = x + 1\n",
    "    if x == 50:\n",
    "        break   # end loop / but continue end this round and directly start the next round\n",
    "print(x)"
   ]
  },
  {
   "cell_type": "markdown",
   "metadata": {},
   "source": [
    "## 5. Dictionary and Set"
   ]
  },
  {
   "cell_type": "markdown",
   "metadata": {},
   "source": [
    "### dict"
   ]
  },
  {
   "cell_type": "markdown",
   "metadata": {},
   "source": [
    "dict全称dictionary，在其他语言中也称为map，使用键-值（key-value）存储，具有极快的查找速度。和list相比，查找和插入的速度极快，不会随着key的增加而变慢；需要占用大量的内存，内存浪费多。要保证hash的正确性，作为key的对象就不能变。在Python中，字符串、整数等都是不可变的，因此，可以放心地作为key。而list是可变的，就不能作为key"
   ]
  },
  {
   "cell_type": "markdown",
   "metadata": {},
   "source": [
    "给定一个名字，比如'Liverpool'，dict在内部就可以直接计算出Liverpool对应的存放成绩的“页码”，也就是100这个数字存放的内存地址，直接取出来，所以速度非常快。"
   ]
  },
  {
   "cell_type": "code",
   "execution_count": 22,
   "metadata": {},
   "outputs": [
    {
     "name": "stdout",
     "output_type": "stream",
     "text": [
      "{'Liverpool': 100, 'ManCity': 80, 'Chelsea': 75, 'Arsenal': 70}\n"
     ]
    }
   ],
   "source": [
    "d = {\"Liverpool\":100, \"ManCity\":80,\"Chelsea\":75}   # 大括号初始化\n",
    "d[\"Arsenal\"] = 70\n",
    "print(d)"
   ]
  },
  {
   "cell_type": "code",
   "execution_count": 27,
   "metadata": {},
   "outputs": [
    {
     "name": "stdout",
     "output_type": "stream",
     "text": [
      "False\n"
     ]
    },
    {
     "data": {
      "text/plain": [
       "-2"
      ]
     },
     "execution_count": 27,
     "metadata": {},
     "output_type": "execute_result"
    }
   ],
   "source": [
    "print(\"Hotspur\" in d) # check if exist in dict\n",
    "d.get(\"Hotspur\",-2) # another way: return to the value you set if not exist"
   ]
  },
  {
   "cell_type": "code",
   "execution_count": 28,
   "metadata": {},
   "outputs": [
    {
     "name": "stdout",
     "output_type": "stream",
     "text": [
      "{'Liverpool': 100, 'ManCity': 80, 'Chelsea': 75}\n"
     ]
    }
   ],
   "source": [
    "d.pop(\"Arsenal\")   # delete a key\n",
    "print(d)"
   ]
  },
  {
   "cell_type": "markdown",
   "metadata": {},
   "source": [
    "dict在loop中的使用"
   ]
  },
  {
   "cell_type": "code",
   "execution_count": 39,
   "metadata": {},
   "outputs": [
    {
     "name": "stdout",
     "output_type": "stream",
     "text": [
      "score 100\n",
      "score 80\n",
      "score 75\n"
     ]
    }
   ],
   "source": [
    "for club in d:\n",
    "    print(\"score\",d[club])"
   ]
  },
  {
   "cell_type": "code",
   "execution_count": 43,
   "metadata": {},
   "outputs": [
    {
     "name": "stdout",
     "output_type": "stream",
     "text": [
      "Liverpool has 100 points\n",
      "ManCity has 80 points\n",
      "Chelsea has 75 points\n"
     ]
    }
   ],
   "source": [
    "for club,score in d.items():\n",
    "    print(\"%s has %d points\" % (club,score))"
   ]
  },
  {
   "cell_type": "code",
   "execution_count": 47,
   "metadata": {},
   "outputs": [
    {
     "name": "stdout",
     "output_type": "stream",
     "text": [
      "{0: 0.0, 1: 1.0, 2: 1.4142135623730951, 3: 1.7320508075688772}\n"
     ]
    }
   ],
   "source": [
    "import math\n",
    "nums = [0,1,2,3]\n",
    "d2 = {x: math.sqrt(x) for x in nums}   # 列表推导\n",
    "print(d2)"
   ]
  },
  {
   "cell_type": "markdown",
   "metadata": {},
   "source": [
    "### set "
   ]
  },
  {
   "cell_type": "markdown",
   "metadata": {},
   "source": [
    "set和dict类似，也是一组key的集合，但不存储value。由于key不能重复，所以，在set中，没有重复的key。"
   ]
  },
  {
   "cell_type": "code",
   "execution_count": 30,
   "metadata": {},
   "outputs": [
    {
     "name": "stdout",
     "output_type": "stream",
     "text": [
      "{1, 2, 3, 4, 5}\n"
     ]
    }
   ],
   "source": [
    "s = set([1,1,2,2,3,3,4,5])  # initialize with a list\n",
    "print(s)        # dupilicate elements are removed"
   ]
  },
  {
   "cell_type": "code",
   "execution_count": 32,
   "metadata": {},
   "outputs": [
    {
     "name": "stdout",
     "output_type": "stream",
     "text": [
      "{2, 3, 4, 5, 6}\n"
     ]
    }
   ],
   "source": [
    "s.add(6)\n",
    "s.remove(1)\n",
    "print(s)"
   ]
  },
  {
   "cell_type": "code",
   "execution_count": 35,
   "metadata": {},
   "outputs": [
    {
     "name": "stdout",
     "output_type": "stream",
     "text": [
      "{3}\n",
      "{2, 3, 4, 5, 6, 100}\n"
     ]
    }
   ],
   "source": [
    "s2 = set([3,100])\n",
    "\n",
    "print(s & s2)      # intersection\n",
    "print(s | s2 )     # union"
   ]
  },
  {
   "cell_type": "markdown",
   "metadata": {},
   "source": [
    "# Part 2. Functions "
   ]
  },
  {
   "cell_type": "markdown",
   "metadata": {},
   "source": [
    "## 1. 定义函数 "
   ]
  },
  {
   "cell_type": "code",
   "execution_count": 37,
   "metadata": {},
   "outputs": [
    {
     "name": "stdout",
     "output_type": "stream",
     "text": [
      "25\n",
      "Error\n"
     ]
    }
   ],
   "source": [
    "def myfun(x):   # 注意冒号\n",
    "    if not isinstance(x,(int,float)):    # 检查输入数据类型是否是int,float\n",
    "        return \"Error\"\n",
    "    if x > 0:\n",
    "        return x ** 2\n",
    "    else:\n",
    "        pass   # 占位符，没想好代码但是需要保证函数允许\n",
    "\n",
    "y = myfun(5)\n",
    "print(y)\n",
    "\n",
    "y = myfun(\"a\")\n",
    "print(y)"
   ]
  },
  {
   "cell_type": "code",
   "execution_count": 49,
   "metadata": {},
   "outputs": [
    {
     "name": "stdout",
     "output_type": "stream",
     "text": [
      "(10, 100, 1000)\n",
      "2 4 8\n"
     ]
    }
   ],
   "source": [
    "def myfun2(x):\n",
    "    return x,x**2,x**3\n",
    "\n",
    "z = myfun2(10)        # python functions return to multiple elements ==> return a tuple\n",
    "print(z)\n",
    "\n",
    "x1,x2,x3 = myfun2(2)\n",
    "print(x1,x2,x3)"
   ]
  },
  {
   "cell_type": "markdown",
   "metadata": {},
   "source": [
    "###  可变参数"
   ]
  },
  {
   "cell_type": "code",
   "execution_count": 50,
   "metadata": {},
   "outputs": [
    {
     "name": "stdout",
     "output_type": "stream",
     "text": [
      "6\n"
     ]
    }
   ],
   "source": [
    "def calc(nums):\n",
    "    sum = 0\n",
    "    for x in nums:\n",
    "        sum = x + sum\n",
    "    return sum\n",
    "\n",
    "print(calc([1,2,3]))"
   ]
  },
  {
   "cell_type": "code",
   "execution_count": 51,
   "metadata": {},
   "outputs": [
    {
     "name": "stdout",
     "output_type": "stream",
     "text": [
      "12\n"
     ]
    }
   ],
   "source": [
    "n = [2,4,6]\n",
    "print(calc(n))"
   ]
  },
  {
   "cell_type": "code",
   "execution_count": 52,
   "metadata": {},
   "outputs": [
    {
     "name": "stdout",
     "output_type": "stream",
     "text": [
      "12\n"
     ]
    }
   ],
   "source": [
    "def calc2(*nums):    # nums变成可变参数\n",
    "    sum = 0\n",
    "    for x in nums:\n",
    "        sum = x + sum\n",
    "    return sum\n",
    "\n",
    "print(calc2(*n))"
   ]
  },
  {
   "cell_type": "markdown",
   "metadata": {},
   "source": [
    "### 关键字参数"
   ]
  },
  {
   "cell_type": "markdown",
   "metadata": {},
   "source": [
    "关键字参数有什么用？它可以扩展函数的功能。"
   ]
  },
  {
   "cell_type": "code",
   "execution_count": 57,
   "metadata": {},
   "outputs": [
    {
     "name": "stdout",
     "output_type": "stream",
     "text": [
      "name: Adam age: 26 other: {}\n",
      "name: Jim age: 17 other: {'city': 'Chengdu', 'Job': 'DS'}\n"
     ]
    }
   ],
   "source": [
    "def person(name, age, **kw):\n",
    "    print('name:', name, 'age:', age, 'other:', kw)\n",
    "    \n",
    "person(\"Adam\",26)\n",
    "\n",
    "extra = {\"city\":\"Chengdu\",\"Job\":\"DS\"}\n",
    "person(\"Jim\",17,**extra)"
   ]
  },
  {
   "cell_type": "markdown",
   "metadata": {},
   "source": [
    "## 2. 递归函数"
   ]
  },
  {
   "cell_type": "markdown",
   "metadata": {},
   "source": [
    "理论上，所有的递归函数都可以写成循环的方式，但循环的逻辑不如递归清晰。"
   ]
  },
  {
   "cell_type": "code",
   "execution_count": 59,
   "metadata": {},
   "outputs": [
    {
     "name": "stdout",
     "output_type": "stream",
     "text": [
      "120\n"
     ]
    }
   ],
   "source": [
    "def fac(x):\n",
    "    if x == 1:\n",
    "        return x\n",
    "    else:\n",
    "        return x*fac(x-1)\n",
    "    \n",
    "print(fac(5))"
   ]
  },
  {
   "cell_type": "markdown",
   "metadata": {},
   "source": [
    "# Part 3. 函数式编程 "
   ]
  },
  {
   "cell_type": "markdown",
   "metadata": {},
   "source": [
    "## 1. 高阶函数 "
   ]
  },
  {
   "cell_type": "markdown",
   "metadata": {},
   "source": [
    "高阶函数英文叫Higher-order function。既然变量可以指向函数，函数的参数能接收变量，那么一个函数就可以接收另一个函数作为参数，这种函数就称之为高阶函数。"
   ]
  },
  {
   "cell_type": "code",
   "execution_count": 5,
   "metadata": {},
   "outputs": [
    {
     "name": "stdout",
     "output_type": "stream",
     "text": [
      "<built-in function abs>\n"
     ]
    }
   ],
   "source": [
    "print(abs)  # abs() is a built-in function"
   ]
  },
  {
   "cell_type": "code",
   "execution_count": null,
   "metadata": {},
   "outputs": [],
   "source": []
  }
 ],
 "metadata": {
  "kernelspec": {
   "display_name": "conda_notebook",
   "language": "python",
   "name": "notebook"
  },
  "language_info": {
   "codemirror_mode": {
    "name": "ipython",
    "version": 3
   },
   "file_extension": ".py",
   "mimetype": "text/x-python",
   "name": "python",
   "nbconvert_exporter": "python",
   "pygments_lexer": "ipython3",
   "version": "3.7.6"
  }
 },
 "nbformat": 4,
 "nbformat_minor": 4
}
